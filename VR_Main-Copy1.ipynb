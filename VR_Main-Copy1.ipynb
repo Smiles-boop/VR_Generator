{
 "cells": [
  {
   "cell_type": "code",
   "execution_count": 1,
   "metadata": {},
   "outputs": [
    {
     "name": "stderr",
     "output_type": "stream",
     "text": [
      "[nltk_data] Downloading package words to\n",
      "[nltk_data]     C:\\Users\\adria\\AppData\\Roaming\\nltk_data...\n",
      "[nltk_data]   Package words is already up-to-date!\n"
     ]
    },
    {
     "data": {
      "text/plain": [
       "True"
      ]
     },
     "execution_count": 1,
     "metadata": {},
     "output_type": "execute_result"
    }
   ],
   "source": [
    "import nltk\n",
    "from random import sample\n",
    "from nltk.corpus import wordnet as wn\n",
    "from nltk.corpus import words\n",
    "nltk.download('words')\n"
   ]
  },
  {
   "cell_type": "code",
   "execution_count": null,
   "metadata": {},
   "outputs": [],
   "source": [
    "def synonym_generator(noun):\n",
    "    \"\"\"\n",
    "    Input: A noun of type string\n",
    "    Output: A list of the noun's synonyms \n",
    "    \"\"\"\n",
    "    pass\n",
    "\n",
    "def antonym_generator(noun):\n",
    "    \"\"\"\n",
    "    Input: A noun of type string\n",
    "    Output: A list of the noun's antonyms \n",
    "    \"\"\"\n",
    "    pass\n",
    "\n",
    "\n",
    "def synonym_generator(noun):\n",
    "    \"\"\"\n",
    "    Input: A noun of type string\n",
    "    Output: A list of the noun's synonyms \n",
    "    \"\"\"\n",
    "    pass\n",
    "def synonym_generator(noun):\n",
    "    \"\"\"\n",
    "    Input: A noun of type string\n",
    "    Output: A list of the noun's synonyms \n",
    "    \"\"\"\n",
    "    pass"
   ]
  }
 ],
 "metadata": {
  "kernelspec": {
   "display_name": "Python 3",
   "language": "python",
   "name": "python3"
  },
  "language_info": {
   "codemirror_mode": {
    "name": "ipython",
    "version": 3
   },
   "file_extension": ".py",
   "mimetype": "text/x-python",
   "name": "python",
   "nbconvert_exporter": "python",
   "pygments_lexer": "ipython3",
   "version": "3.8.5"
  }
 },
 "nbformat": 4,
 "nbformat_minor": 4
}
