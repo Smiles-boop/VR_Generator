{
 "cells": [
  {
   "cell_type": "code",
   "execution_count": null,
   "metadata": {},
   "outputs": [],
   "source": []
  },
  {
   "cell_type": "code",
   "execution_count": 7,
   "metadata": {},
   "outputs": [
    {
     "name": "stderr",
     "output_type": "stream",
     "text": [
      "[nltk_data] Downloading package words to\n",
      "[nltk_data]     C:\\Users\\adria\\AppData\\Roaming\\nltk_data...\n",
      "[nltk_data]   Package words is already up-to-date!\n"
     ]
    },
    {
     "data": {
      "text/plain": [
       "True"
      ]
     },
     "execution_count": 7,
     "metadata": {},
     "output_type": "execute_result"
    }
   ],
   "source": [
    "\r\n",
    "import nltk\r\n",
    "from random import sample\r\n",
    "from nltk.corpus import wordnet as wn\r\n",
    "from nltk.corpus import words\r\n",
    "nltk.download('words')\r\n"
   ]
  },
  {
   "cell_type": "code",
   "execution_count": 5,
   "metadata": {},
   "outputs": [
    {
     "name": "stdout",
     "output_type": "stream",
     "text": [
      "You might wonder why we convert our list into a set. Set is an abstract data type that can store unique values, without any particular order. The search operation in a set is much faster than the search operation in a list. For a small number of words, there is no big difference, but if you have a large number of words it’s highly recommended to use the set type.\n"
     ]
    }
   ],
   "source": [
    "print(\"You might wonder why we convert our list into a set. Set is an abstract data type that can store unique values, without any particular order. The search operation in a set is much faster than the search operation in a list. For a small number of words, there is no big difference, but if you have a large number of words it’s highly recommended to use the set type.\")"
   ]
  },
  {
   "cell_type": "markdown",
   "metadata": {},
   "source": []
  },
  {
   "cell_type": "code",
   "execution_count": 26,
   "metadata": {},
   "outputs": [],
   "source": [
    "def synonym_antonym_generator(noun):\r\n",
    "    \"\"\"\r\n",
    "    Input: A noun of type string\r\n",
    "    Output: A list of the noun's synonyms and a list of the noun's antonyms\r\n",
    "    \"\"\"\r\n",
    "    synonyms = [] \r\n",
    "    antonyms = [] \r\n",
    "  \r\n",
    "    for syn in wn.synsets(noun): \r\n",
    "        for l in syn.lemmas(): \r\n",
    "            synonyms.append(l.name()) \r\n",
    "            if l.antonyms(): \r\n",
    "                antonyms.append(l.antonyms()[0].name())\r\n",
    "\r\n",
    "    return list(set(synonyms)), list(set(antonyms)),\r\n",
    " \r\n",
    "\r\n",
    "\r\n",
    "\r\n"
   ]
  },
  {
   "cell_type": "code",
   "execution_count": 27,
   "metadata": {},
   "outputs": [
    {
     "data": {
      "text/plain": [
       "(['human_foot',\n",
       "  'groundwork',\n",
       "  'ft',\n",
       "  'hoof',\n",
       "  'foundation',\n",
       "  'foot_up',\n",
       "  'animal_foot',\n",
       "  'hoof_it',\n",
       "  'pick',\n",
       "  'leg_it',\n",
       "  'understructure',\n",
       "  'substructure',\n",
       "  'metrical_foot',\n",
       "  'metrical_unit',\n",
       "  'foot',\n",
       "  'pes',\n",
       "  'infantry',\n",
       "  'invertebrate_foot',\n",
       "  'base',\n",
       "  'fundament'],\n",
       " ['head'])"
      ]
     },
     "execution_count": 27,
     "metadata": {},
     "output_type": "execute_result"
    }
   ],
   "source": [
    "synonym_antonym_generator(\"foot\")"
   ]
  },
  {
   "cell_type": "code",
   "execution_count": 35,
   "metadata": {},
   "outputs": [],
   "source": [
    "def parts_substance_generator(noun):\r\n",
    "    \"\"\"\r\n",
    "    Input: A noun of type string in the form of a synset \r\n",
    "    Output: A list of synsets of nouns that \"make up\" the input noun\r\n",
    "    \"\"\"\r\n",
    "    word = wn.synset(noun)\r\n",
    "    parts_list = word.substance_meronyms()\r\n",
    "    return parts_list"
   ]
  },
  {
   "cell_type": "code",
   "execution_count": 36,
   "metadata": {},
   "outputs": [],
   "source": [
    "def parts_generator(noun):\r\n",
    "    \"\"\"\r\n",
    "    Input: A noun of type string in the form of a sysnet\r\n",
    "    Output: A list of synsets of nouns that are substances and \"make up\" the input noun\r\n",
    "    \"\"\"\r\n",
    "    word = wn.synset(noun)\r\n",
    "    parts_list = word.part_meronyms()\r\n",
    "    return parts_list\r\n",
    "\r\n"
   ]
  },
  {
   "cell_type": "code",
   "execution_count": 37,
   "metadata": {},
   "outputs": [
    {
     "data": {
      "text/plain": [
       "[Synset('heartwood.n.01'), Synset('sapwood.n.01')]"
      ]
     },
     "execution_count": 37,
     "metadata": {},
     "output_type": "execute_result"
    }
   ],
   "source": [
    "parts_substance_generator('tree.n.01')"
   ]
  },
  {
   "cell_type": "code",
   "execution_count": null,
   "metadata": {},
   "outputs": [],
   "source": []
  },
  {
   "cell_type": "code",
   "execution_count": null,
   "metadata": {},
   "outputs": [],
   "source": []
  }
 ],
 "metadata": {
  "interpreter": {
   "hash": "bdc952c83ab700cb2a2ae5b1879c12b8874e08aacc21ce68ea28ff16932fb5f6"
  },
  "kernelspec": {
   "display_name": "Python 3.9.1 64-bit",
   "name": "python3"
  },
  "language_info": {
   "codemirror_mode": {
    "name": "ipython",
    "version": 3
   },
   "file_extension": ".py",
   "mimetype": "text/x-python",
   "name": "python",
   "nbconvert_exporter": "python",
   "pygments_lexer": "ipython3",
   "version": "3.9.1"
  }
 },
 "nbformat": 4,
 "nbformat_minor": 4
}